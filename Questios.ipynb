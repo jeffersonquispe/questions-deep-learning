{
 "cells": [
  {
   "cell_type": "markdown",
   "metadata": {},
   "source": [
    "# Questions"
   ]
  },
  {
   "cell_type": "markdown",
   "metadata": {},
   "source": [
    "## libraries"
   ]
  },
  {
   "cell_type": "code",
   "execution_count": 26,
   "metadata": {
    "collapsed": true
   },
   "outputs": [],
   "source": [
    "import numpy as np\n",
    "import matplotlib.pyplot as plt\n",
    "from numpy import linalg "
   ]
  },
  {
   "cell_type": "markdown",
   "metadata": {},
   "source": [
    "## Lineal Algebra"
   ]
  },
  {
   "cell_type": "markdown",
   "metadata": {},
   "source": [
    "**1)What is broadcasting in connection to Linear Algebra?** \n",
    "\n",
    "This has a relationship with numpy and that describes how numpy treats arrays with different shapes during arithmetic operations. Subject to certain constraints, the smaller array is “broadcast” across the larger array so that they have compatible shapes."
   ]
  },
  {
   "cell_type": "code",
   "execution_count": 4,
   "metadata": {
    "collapsed": false
   },
   "outputs": [
    {
     "name": "stdout",
     "output_type": "stream",
     "text": [
      "[[6 8 3]\n",
      " [9 4 4]\n",
      " [6 6 3]]\n"
     ]
    }
   ],
   "source": [
    "M = np.array([[1, 6, 2],\n",
    "              [4, 2, 3],\n",
    "              [1, 4, 2]])\n",
    "\n",
    "v = np.array([5, 2, 1])\n",
    "\n",
    "print(M + v)"
   ]
  },
  {
   "cell_type": "markdown",
   "metadata": {},
   "source": [
    "**2)What are scalars, vectors, matrices, and tensors?**\n",
    "\n",
    "**Scalars**:Is a current number like Reals $R$, Integers $Z$ and Naturals $N$, in python they are present like float, complex, bytes to just scalars numbers.\n",
    "**Vectors**:Is a set of scalars in a array, these are dennoted by a small letter.\n",
    "**Matrices**:Is a array bi-dimensional numbers and have two index  for row and columns. This is represented with a capital letter.\n",
    "**Tensors**:Is a set of matrices with more ejes that represent as cub or a image RGB (each channel color), have three dimensions (n,m,p), row, columns and deep respectively. "
   ]
  },
  {
   "cell_type": "code",
   "execution_count": 5,
   "metadata": {
    "collapsed": false
   },
   "outputs": [
    {
     "name": "stdout",
     "output_type": "stream",
     "text": [
      "2\n",
      "4.8\n",
      "7.435\n"
     ]
    }
   ],
   "source": [
    "'''Scalars Numbers'''\n",
    "a = 2\n",
    "b = 4.8\n",
    "c = 7.435\n",
    "\n",
    "print(a)\n",
    "print(b)\n",
    "print(c)"
   ]
  },
  {
   "cell_type": "code",
   "execution_count": 6,
   "metadata": {
    "collapsed": false
   },
   "outputs": [
    {
     "name": "stdout",
     "output_type": "stream",
     "text": [
      "[ 2  5  7  9 10]\n"
     ]
    }
   ],
   "source": [
    "'''Vectors'''\n",
    "a=np.array([2,5,7,9,10])\n",
    "print(a)"
   ]
  },
  {
   "cell_type": "code",
   "execution_count": 8,
   "metadata": {
    "collapsed": false
   },
   "outputs": [
    {
     "name": "stdout",
     "output_type": "stream",
     "text": [
      "[[ 2  5  7  8]\n",
      " [23  5  6  7]\n",
      " [34  4  5  4]]\n"
     ]
    }
   ],
   "source": [
    "'''Matrices'''\n",
    "M=np.array([[2,5,7,8],[23,5,6,7],[34,4,5,4]])\n",
    "print(M)"
   ]
  },
  {
   "cell_type": "code",
   "execution_count": 15,
   "metadata": {
    "collapsed": false
   },
   "outputs": [
    {
     "name": "stdout",
     "output_type": "stream",
     "text": [
      "(3, 3, 3)\n",
      "[[[ 1  2  3]\n",
      "  [ 4  5  6]\n",
      "  [ 7  8  9]]\n",
      "\n",
      " [[11 12 13]\n",
      "  [14 15 16]\n",
      "  [17 18 19]]\n",
      "\n",
      " [[21 22 23]\n",
      "  [24 25 26]\n",
      "  [27 28 29]]]\n"
     ]
    }
   ],
   "source": [
    "'''Tensors'''\n",
    "T = np.array([\n",
    "  [[1,2,3],    [4,5,6],    [7,8,9]],\n",
    "  [[11,12,13], [14,15,16], [17,18,19]],\n",
    "  [[21,22,23], [24,25,26], [27,28,29]],\n",
    "  ])\n",
    "print(T.shape)\n",
    "print(T)"
   ]
  },
  {
   "cell_type": "markdown",
   "metadata": {},
   "source": [
    "**3) What is Hadamard product of two matrices?** \n",
    "Is a multiplication with the same dimentions between two matrices. It is often \n",
    "confused with normal multiplication."
   ]
  },
  {
   "cell_type": "code",
   "execution_count": 22,
   "metadata": {
    "collapsed": false
   },
   "outputs": [
    {
     "name": "stdout",
     "output_type": "stream",
     "text": [
      "[[  4   9  16  25]\n",
      " [  4   9  16  36]\n",
      " [ 36 276  16   9]]\n"
     ]
    }
   ],
   "source": [
    "'''Hadamard product'''\n",
    "A=np.array([[2,3,4,5],[2,3,4,6],[6,46,4,3]])\n",
    "B=np.array([[2,3,4,5],[2,3,4,6],[6,6,4,3]])\n",
    "print(np.multiply(A,B))"
   ]
  },
  {
   "cell_type": "markdown",
   "metadata": {},
   "source": [
    "**4) What is an inverse matrix?**\n",
    "Also called Invertible Matrix, nonsingular or nondegenerate,  if there exists an n-by-n square matrix B such that\n",
    "\n",
    "    AB = BA = I_n\n",
    "\n",
    "where In denotes the n-by-n identity matrix and the multiplication used is ordinary matrix multiplication. If this is the case, then the matrix B is uniquely determined by A and is called the inverse of A, denoted by A−1.\n",
    "\n",
    "A square matrix that is not invertible is called singular or degenerate. A square matrix is singular if and only if its determinant is 0. Singular matrices are rare in the sense that a square matrix randomly selected from a continuous uniform distribution on its entries will almost never be singular. "
   ]
  },
  {
   "cell_type": "code",
   "execution_count": 28,
   "metadata": {
    "collapsed": false
   },
   "outputs": [
    {
     "name": "stdout",
     "output_type": "stream",
     "text": [
      "[[ 0.7 -1.1  0.3]\n",
      " [-1.8  2.4 -0.2]\n",
      " [ 1.  -1.   0. ]]\n"
     ]
    }
   ],
   "source": [
    "'''Invertible Matrix'''\n",
    "A=np.array([[2,3,5],[2,3,4],[6,4,3]])\n",
    "print(np.linalg.inv(A))"
   ]
  },
  {
   "cell_type": "markdown",
   "metadata": {},
   "source": [
    "**5) If inverse of a matrix exists, how to calculate it?**\n",
    "There are 3 way to resolve the inverse of the matrix.\n",
    " - Aplicate the definition and  solve equations respectively.\n",
    " - Using Gauss Method.\n",
    " - Using Determinants and atachments.\n",
    "\n",
    "Here there is a way to solve:\n",
    "http://recursostic.educacion.es/descartes/web/materiales_didacticos/matrices/inversa_de_una_matriz.htm"
   ]
  },
  {
   "cell_type": "markdown",
   "metadata": {},
   "source": [
    "**6) What is the determinant of a square matrix? How is it calculated? What is the connection of determinant to eigenvalues?**\n"
   ]
  },
  {
   "cell_type": "code",
   "execution_count": 29,
   "metadata": {
    "collapsed": false
   },
   "outputs": [
    {
     "name": "stdout",
     "output_type": "stream",
     "text": [
      "-10.0\n"
     ]
    }
   ],
   "source": [
    "'''Determinant'''\n",
    "A=np.array([[2,3,5],[2,3,4],[6,4,3]])\n",
    "print(np.linalg.det(A))"
   ]
  },
  {
   "cell_type": "code",
   "execution_count": null,
   "metadata": {
    "collapsed": true
   },
   "outputs": [],
   "source": [
    "\n",
    "Discuss span and linear dependence.\n",
    "What is Ax = b? When does Ax =b has a unique solution?\n",
    "In Ax = b, what happens when A is fat or tall?\n",
    "When does inverse of A exist?\n",
    "What is a norm? What is L1, L2 and L infinity norm?\n",
    "What are the conditions a norm has to satisfy?\n",
    "Why is squared of L2 norm preferred in ML than just L2 norm?\n",
    "When L1 norm is preferred over L2 norm?\n",
    "Can the number of nonzero elements in a vector be defined as L0 norm? If no, why?\n",
    "What is Frobenius norm?\n",
    "What is a diagonal matrix?\n",
    "Why is multiplication by diagonal matrix computationally cheap? How is the multiplication different for square vs. non-square diagonal matrix?\n",
    "At what conditions does the inverse of a diagonal matrix exist?\n",
    "What is a symmetrix matrix?\n",
    "What is a unit vector?\n",
    "When are two vectors x and y orthogonal?\n",
    "At R^n what is the maximum possible number of orthogonal vectors with non-zero norm?\n",
    "When are two vectors x and y orthonormal?\n",
    "What is an orthogonal matrix? Why is computationally preferred?\n",
    "What is eigendecomposition, eigenvectors and eigenvalues?\n",
    "How to find eigen values of a matrix?\n",
    "Write the eigendecomposition formula for a matrix. If the matrix is real symmetric, how will this change?\n",
    "Is the Eigendecomposition guaranteed to be unique? If not, then how do we represent it?\n",
    "What are positive definite, negative definite, positive semi definite and negative semi definite matrices?\n",
    "What is Singular Value Decomposition? Why do we use it? Why not just use ED?\n",
    "Given a matrix A, how will you calculate its Singular Value Decomposition?\n",
    "What are singular values, left singulars and right singulars?\n",
    "What is the connection of Singular Value Decomposition of A with functions of A?\n",
    "Why are singular values always non-negative?\n",
    "What is the Moore Penrose pseudo inverse and how to calculate it?\n",
    "If we do Moore Penrose pseudo inverse on Ax = b, what solution is provided is A is fat? Moreover, what solution is provided if A is tall?\n",
    "Which matrices can be decomposed by ED?\n",
    "Which matrices can be decomposed by SVD?\n",
    "What is the trace of a matrix?\n",
    "How to write Frobenius norm of a matrix A in terms of trace?\n",
    "Why is trace of a multiplication of matrices invariant to cyclic permutations?\n",
    "What is the trace of a scalar?\n",
    "Write the frobenius norm of a matrix in terms of trace?"
   ]
  }
 ],
 "metadata": {
  "kernelspec": {
   "display_name": "Python 3",
   "language": "python",
   "name": "python3"
  },
  "language_info": {
   "codemirror_mode": {
    "name": "ipython",
    "version": 3
   },
   "file_extension": ".py",
   "mimetype": "text/x-python",
   "name": "python",
   "nbconvert_exporter": "python",
   "pygments_lexer": "ipython3",
   "version": "3.6.3"
  }
 },
 "nbformat": 4,
 "nbformat_minor": 2
}
